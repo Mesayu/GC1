{
 "cells": [
  {
   "cell_type": "code",
   "execution_count": 11,
   "metadata": {},
   "outputs": [
    {
     "name": "stdout",
     "output_type": "stream",
     "text": [
      "==================================\n",
      "        Graded Challange 1        \n",
      "Nama     : Mesayu Gina Puspita\n",
      "Batch    : RMT-029\n",
      "Program ini dibuat untuk melakukan automatisasi pengolahan (cleaning) data text yang berguna untuk pemodelan model analisa sentimen\n",
      "==================================\n"
     ]
    }
   ],
   "source": [
    "print(\"==================================\")\n",
    "print(\"        Graded Challange 1        \")\n",
    "print(\"Nama     : Mesayu Gina Puspita\")\n",
    "print(\"Batch    : RMT-029\")\n",
    "print(\"Program ini dibuat untuk melakukan automatisasi pengolahan (cleaning) data text yang berguna untuk pemodelan model analisa sentimen\")\n",
    "print(\"==================================\")"
   ]
  },
  {
   "cell_type": "markdown",
   "metadata": {},
   "source": [
    "sumber :\n",
    "- https://medium.com/@akhmadtaufik/python-project-self-service-cashier-b80784b4fd1f\n",
    "- https://stackoverflow.com/questions/40172281/unit-tests-for-functions-in-a-jupyter-notebook\n",
    " "
   ]
  },
  {
   "cell_type": "code",
   "execution_count": 1,
   "metadata": {},
   "outputs": [
    {
     "name": "stdout",
     "output_type": "stream",
     "text": [
      "apel - 3400\n",
      "jeruk - 2100\n"
     ]
    }
   ],
   "source": [
    "class cartitem: # membuat class chartitem\n",
    "    def __init__(self, nama, harga): # Menginisialisasi variabel input\n",
    "        self.nama = nama\n",
    "        self.harga = harga\n",
    "    \n",
    "    def __str__(self):\n",
    "        return f\"{self.nama} - {self.harga}\"\n",
    "    \n",
    "item1 = cartitem(\"apel\", 3400)\n",
    "item2 = cartitem(\"jeruk\", 2100)  \n",
    "\n",
    "print(item1)\n",
    "print(item2)"
   ]
  },
  {
   "cell_type": "code",
   "execution_count": 2,
   "metadata": {},
   "outputs": [
    {
     "name": "stdout",
     "output_type": "stream",
     "text": [
      "menu:\n",
      "1. Menambah barang\n",
      "2. Hapus barang\n",
      "3. Tampilkan barang di keranjang\n",
      "4. Total belanja\n",
      "5. Exit\n",
      "pilihan tidak sesuai, silahkan dicoba kembali\n",
      "menu:\n",
      "1. Menambah barang\n",
      "2. Hapus barang\n",
      "3. Tampilkan barang di keranjang\n",
      "4. Total belanja\n",
      "5. Exit\n"
     ]
    },
    {
     "ename": "ValueError",
     "evalue": "could not convert string to float: 'item1'",
     "output_type": "error",
     "traceback": [
      "\u001b[1;31m---------------------------------------------------------------------------\u001b[0m",
      "\u001b[1;31mValueError\u001b[0m                                Traceback (most recent call last)",
      "Cell \u001b[1;32mIn[2], line 67\u001b[0m\n\u001b[0;32m     64\u001b[0m                 \u001b[38;5;28mprint\u001b[39m(\u001b[38;5;124m'\u001b[39m\u001b[38;5;124mpilihan tidak sesuai, silahkan dicoba kembali\u001b[39m\u001b[38;5;124m'\u001b[39m)\n\u001b[0;32m     66\u001b[0m shoppingcart \u001b[38;5;241m=\u001b[39m shoppingcart()\n\u001b[1;32m---> 67\u001b[0m \u001b[43mshoppingcart\u001b[49m\u001b[38;5;241;43m.\u001b[39;49m\u001b[43muser_interface\u001b[49m\u001b[43m(\u001b[49m\u001b[43m)\u001b[49m\n",
      "Cell \u001b[1;32mIn[2], line 50\u001b[0m, in \u001b[0;36mshoppingcart.user_interface\u001b[1;34m(self)\u001b[0m\n\u001b[0;32m     48\u001b[0m \u001b[38;5;28;01mif\u001b[39;00m pilihan \u001b[38;5;241m==\u001b[39m \u001b[38;5;124m'\u001b[39m\u001b[38;5;124m1\u001b[39m\u001b[38;5;124m'\u001b[39m:\n\u001b[0;32m     49\u001b[0m     nama \u001b[38;5;241m=\u001b[39m \u001b[38;5;28minput\u001b[39m(\u001b[38;5;124m'\u001b[39m\u001b[38;5;124mmasukan barang:\u001b[39m\u001b[38;5;124m'\u001b[39m)\n\u001b[1;32m---> 50\u001b[0m     harga \u001b[38;5;241m=\u001b[39m \u001b[38;5;28;43mfloat\u001b[39;49m\u001b[43m(\u001b[49m\u001b[38;5;28;43minput\u001b[39;49m\u001b[43m(\u001b[49m\u001b[38;5;124;43m'\u001b[39;49m\u001b[38;5;124;43mmasukan harga barang:\u001b[39;49m\u001b[38;5;124;43m'\u001b[39;49m\u001b[43m)\u001b[49m\u001b[43m)\u001b[49m\n\u001b[0;32m     51\u001b[0m     \u001b[38;5;28mself\u001b[39m\u001b[38;5;241m.\u001b[39mtambah_barang(cartitem(nama, harga))\n\u001b[0;32m     52\u001b[0m \u001b[38;5;28;01melif\u001b[39;00m pilihan \u001b[38;5;241m==\u001b[39m \u001b[38;5;124m'\u001b[39m\u001b[38;5;124m2\u001b[39m\u001b[38;5;124m'\u001b[39m:\n",
      "\u001b[1;31mValueError\u001b[0m: could not convert string to float: 'item1'"
     ]
    }
   ],
   "source": [
    "class cartitem: # membuat class chartitem\n",
    "    def __init__(self, nama, harga): # Menginisialisasi variabel input\n",
    "        self.nama = nama\n",
    "        self.harga = harga\n",
    "\n",
    "class shoppingcart: # Membuat class shoppingcart\n",
    "    def __init__(self):\n",
    "        self.item = []\n",
    "\n",
    "    def tambah_barang(self, item):\n",
    "        self.item.append(item)\n",
    "        print(f'(nama, harga), berhasil ditambahkan ke keranjang')\n",
    "\n",
    "    def hapus_barang(self, nama_item):\n",
    "        item_to_remove = None\n",
    "        for item in self.item:\n",
    "            if item.nama == nama_item:\n",
    "                item_to_remove = item\n",
    "                break\n",
    "            if item_to_remove:\n",
    "                self.item.remove(item_to_remove)\n",
    "                print(\"barang sudah dihapus dari keranjang\")\n",
    "            else:\n",
    "                print(\"barang tidak ditemukan di keranjang\")\n",
    "    \n",
    "    def menampilkan_barang(self, nama, harga):\n",
    "        if not self.item:\n",
    "            print('keranjang belanja anda kosong')\n",
    "        else:\n",
    "            for item in self.item:\n",
    "                print(item)\n",
    "    \n",
    "    def total_belanja(self):\n",
    "        total = sum(harga for item in self.item)\n",
    "        return total\n",
    "    \n",
    "    def user_interface(self):\n",
    "        while True:\n",
    "            print(\"menu:\")\n",
    "            print(\"1. Menambah barang\")\n",
    "            print(\"2. Hapus barang\")\n",
    "            print(\"3. Tampilkan barang di keranjang\")\n",
    "            print(\"4. Total belanja\")\n",
    "            print(\"5. Exit\")\n",
    "\n",
    "            pilihan = input(\"pilihan:\")\n",
    "\n",
    "            if pilihan == '1':\n",
    "                nama = input('masukan barang:')\n",
    "                harga = float(input('masukan harga barang:'))\n",
    "                self.tambah_barang(cartitem(nama, harga))\n",
    "            elif pilihan == '2':\n",
    "                nama = input('masukan nama barang yang ingin di hapus:')\n",
    "                self.remove_item(nama)\n",
    "            elif pilihan == '3':\n",
    "                self.menampilkan_barang(cartitem(nama, harga))\n",
    "            elif pilihan == '4':\n",
    "                total = self.total_belanja()\n",
    "                print(f'total belanja adalah : (total)')\n",
    "            elif pilihan == '5':\n",
    "                print('terima kasih sudah berbelanja')\n",
    "                break\n",
    "            else:\n",
    "                print('pilihan tidak sesuai, silahkan dicoba kembali')\n",
    "\n",
    "shoppingcart = shoppingcart()\n",
    "shoppingcart.user_interface()\n"
   ]
  },
  {
   "cell_type": "code",
   "execution_count": 7,
   "metadata": {},
   "outputs": [
    {
     "name": "stderr",
     "output_type": "stream",
     "text": [
      "test_hapus_barang (__main__.Testshoppingcart) ... ERROR\n",
      "test_tambah_barang (__main__.Testshoppingcart) ... ERROR\n",
      "test_total_belanja (__main__.Testshoppingcart) ... ERROR\n",
      "\n",
      "======================================================================\n",
      "ERROR: test_hapus_barang (__main__.Testshoppingcart)\n",
      "----------------------------------------------------------------------\n",
      "Traceback (most recent call last):\n",
      "  File \"C:\\Users\\User\\AppData\\Local\\Temp\\ipykernel_9856\\2461520609.py\", line 17, in test_hapus_barang\n",
      "    self.cart.tambah_barang(self.cart1)\n",
      "AttributeError: 'Testshoppingcart' object has no attribute 'cart'\n",
      "\n",
      "======================================================================\n",
      "ERROR: test_tambah_barang (__main__.Testshoppingcart)\n",
      "----------------------------------------------------------------------\n",
      "Traceback (most recent call last):\n",
      "  File \"C:\\Users\\User\\AppData\\Local\\Temp\\ipykernel_9856\\2461520609.py\", line 10, in test_tambah_barang\n",
      "    self.cart.tambah_barang(self.cart1)\n",
      "AttributeError: 'Testshoppingcart' object has no attribute 'cart'\n",
      "\n",
      "======================================================================\n",
      "ERROR: test_total_belanja (__main__.Testshoppingcart)\n",
      "----------------------------------------------------------------------\n",
      "Traceback (most recent call last):\n",
      "  File \"C:\\Users\\User\\AppData\\Local\\Temp\\ipykernel_9856\\2461520609.py\", line 23, in test_total_belanja\n",
      "    self.cart.tambah_barang(self.cart1)\n",
      "AttributeError: 'Testshoppingcart' object has no attribute 'cart'\n",
      "\n",
      "----------------------------------------------------------------------\n",
      "Ran 3 tests in 0.013s\n",
      "\n",
      "FAILED (errors=3)\n"
     ]
    },
    {
     "data": {
      "text/plain": [
       "<unittest.main.TestProgram at 0x2944ee7a6d0>"
      ]
     },
     "execution_count": 7,
     "metadata": {},
     "output_type": "execute_result"
    }
   ],
   "source": [
    "import unittest\n",
    "\n",
    "class Testshoppingcart(unittest.TestCase):\n",
    "    def setup(self):\n",
    "        self.cart = shoppingcart()\n",
    "        self.cart1 = cartitem('apel', 3400)\n",
    "        self.cart2 = cartitem('jeruk', 2100)\n",
    "\n",
    "    def test_tambah_barang(self):\n",
    "        self.cart.tambah_barang(self.cart1)\n",
    "        self.assertEqual(len(self.cart1, 1))\n",
    "\n",
    "        self.cart.tambah_barang(self.cart2)\n",
    "        self.assertEqual(len(self.cart1, 2))\n",
    "\n",
    "    def test_hapus_barang(self):\n",
    "        self.cart.tambah_barang(self.cart1)\n",
    "        self.cart.tambah_barang(self.cart2)\n",
    "        self.cart.hapus_barang('apel')\n",
    "        self.assertEqual(len(self.cart1, 0))\n",
    "\n",
    "    def test_total_belanja(self):\n",
    "        self.cart.tambah_barang(self.cart1)\n",
    "        self.cart.tambah_barang(self.cart2)\n",
    "        total = self.cart.total_belanja()\n",
    "        self.assertEqual(total, 5500)\n",
    "\n",
    "unittest.main(argv=[''], verbosity=2, exit=False) \n",
    "      \n",
    "    "
   ]
  }
 ],
 "metadata": {
  "kernelspec": {
   "display_name": "base",
   "language": "python",
   "name": "python3"
  },
  "language_info": {
   "codemirror_mode": {
    "name": "ipython",
    "version": 3
   },
   "file_extension": ".py",
   "mimetype": "text/x-python",
   "name": "python",
   "nbconvert_exporter": "python",
   "pygments_lexer": "ipython3",
   "version": "3.9.18"
  }
 },
 "nbformat": 4,
 "nbformat_minor": 2
}
